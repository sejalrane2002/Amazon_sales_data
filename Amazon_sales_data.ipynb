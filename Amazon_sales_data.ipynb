{
 "cells": [
  {
   "cell_type": "code",
   "execution_count": 1,
   "id": "b407096a",
   "metadata": {},
   "outputs": [],
   "source": [
    "import pandas as pd\n",
    "\n",
    "# Load the data\n",
    "file_path = 'C:\\\\Users\\\\Sejal\\\\Desktop\\\\data science projects\\\\amazon_sales\\\\Amazon Sales data.csv'\n",
    "data = pd.read_csv(file_path)"
   ]
  },
  {
   "cell_type": "code",
   "execution_count": 2,
   "id": "d546103b",
   "metadata": {},
   "outputs": [],
   "source": [
    "data['Order Date'] = pd.to_datetime(data['Order Date'], errors='coerce')"
   ]
  },
  {
   "cell_type": "code",
   "execution_count": 3,
   "id": "8ab48861",
   "metadata": {},
   "outputs": [],
   "source": [
    "# Extract month and year from Order Date\n",
    "data['Year'] = data['Order Date'].dt.year\n",
    "data['Month'] = data['Order Date'].dt.month"
   ]
  },
  {
   "cell_type": "code",
   "execution_count": 4,
   "id": "0fcd4321",
   "metadata": {},
   "outputs": [],
   "source": [
    "# Aggregate data for month-wise sales\n",
    "month_wise_sales = data.groupby('Month')['Total Revenue'].sum().reset_index()"
   ]
  },
  {
   "cell_type": "code",
   "execution_count": 5,
   "id": "971c40bd",
   "metadata": {},
   "outputs": [],
   "source": [
    "# Aggregate data for year-wise sales\n",
    "year_wise_sales = data.groupby('Year')['Total Revenue'].sum().reset_index()"
   ]
  },
  {
   "cell_type": "code",
   "execution_count": 6,
   "id": "d61efb2d",
   "metadata": {},
   "outputs": [],
   "source": [
    "# Aggregate data for yearly month-wise sales\n",
    "yearly_month_wise_sales = data.groupby(['Year', 'Month'])['Total Revenue'].sum().reset_index()"
   ]
  },
  {
   "cell_type": "code",
   "execution_count": 7,
   "id": "8c7e117a",
   "metadata": {},
   "outputs": [
    {
     "name": "stdout",
     "output_type": "stream",
     "text": [
      "Data transformed and saved to Transformed_Amazon_Sales_Data.xlsx\n"
     ]
    }
   ],
   "source": [
    "# Save the transformed data to an Excel file using openpyxl\n",
    "output_path = 'Transformed_Amazon_Sales_Data.xlsx'\n",
    "with pd.ExcelWriter(output_path, engine='openpyxl') as writer:\n",
    "    # Write the original data\n",
    "    data.to_excel(writer, sheet_name='Original Data', index=False)\n",
    "    \n",
    "    # Write the month-wise sales data\n",
    "    month_wise_sales.to_excel(writer, sheet_name='Month-wise Sales', index=False)\n",
    "    \n",
    "    # Write the year-wise sales data\n",
    "    year_wise_sales.to_excel(writer, sheet_name='Year-wise Sales', index=False)\n",
    "    \n",
    "    # Write the yearly month-wise sales data\n",
    "    yearly_month_wise_sales.to_excel(writer, sheet_name='Yearly Month-wise Sales', index=False)\n",
    "\n",
    "print(\"Data transformed and saved to\", output_path)"
   ]
  },
  {
   "cell_type": "code",
   "execution_count": null,
   "id": "7270dee0",
   "metadata": {},
   "outputs": [],
   "source": []
  }
 ],
 "metadata": {
  "kernelspec": {
   "display_name": "Python 3 (ipykernel)",
   "language": "python",
   "name": "python3"
  },
  "language_info": {
   "codemirror_mode": {
    "name": "ipython",
    "version": 3
   },
   "file_extension": ".py",
   "mimetype": "text/x-python",
   "name": "python",
   "nbconvert_exporter": "python",
   "pygments_lexer": "ipython3",
   "version": "3.11.3"
  }
 },
 "nbformat": 4,
 "nbformat_minor": 5
}
